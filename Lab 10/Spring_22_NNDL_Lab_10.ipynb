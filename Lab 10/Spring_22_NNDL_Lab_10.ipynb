{
  "nbformat": 4,
  "nbformat_minor": 0,
  "metadata": {
    "colab": {
      "name": "Spring_22_NNDL_Lab_10.ipynb",
      "provenance": []
    },
    "kernelspec": {
      "name": "python3",
      "display_name": "Python 3"
    },
    "language_info": {
      "name": "python"
    }
  },
  "cells": [
    {
      "cell_type": "markdown",
      "source": [
        "# LAB 10 : Restricted Boltzmann Machine\n",
        "\n",
        "Name : \n",
        "\n",
        "Roll Number :\n",
        "\n",
        "References : \n",
        "\n",
        "1. MNIST Dataset : http://yann.lecun.com/exdb/mnist/\n",
        "2. Movie Lens Dataset : https://grouplens.org/datasets/movielens/\n",
        "3. https://towardsdatascience.com/restricted-boltzmann-machine-how-to-create-a-recommendation-system-for-movie-review-45599a406deb\n",
        "4. https://towardsdatascience.com/restricted-boltzmann-machine-as-a-recommendation-system-for-movie-review-part-2-9a6cab91d85b\n",
        "5. https://github.com/echen/restricted-boltzmann-machines"
      ],
      "metadata": {
        "id": "-RKeacOw3vX9"
      }
    },
    {
      "cell_type": "markdown",
      "source": [
        "#**Problem 1** : MNIST Digit Classification using RBM + Logistic Regression \n",
        "\n",
        "1. Consider MNIST Digit Dataset\n",
        "2. Use the Bernoulli RBM API from Sci-kit learn package and create a pipeline of RBM network and logistic regression to classify the digits"
      ],
      "metadata": {
        "id": "7Vtiy88f4ikk"
      }
    },
    {
      "cell_type": "markdown",
      "source": [
        "##Write down the Objectives, Hypothesis and Experimental description for the above problem\n"
      ],
      "metadata": {
        "id": "TWbtmaWF6AoP"
      }
    },
    {
      "cell_type": "markdown",
      "source": [
        ""
      ],
      "metadata": {
        "id": "tHFkTwon6B33"
      }
    },
    {
      "cell_type": "markdown",
      "source": [
        "## Programming : \n",
        "  Please write a program to demonstrate the same"
      ],
      "metadata": {
        "id": "BevdKu8E6CQm"
      }
    },
    {
      "cell_type": "code",
      "execution_count": null,
      "metadata": {
        "id": "8liOW29M3ucS"
      },
      "outputs": [],
      "source": [
        ""
      ]
    },
    {
      "cell_type": "markdown",
      "source": [
        "## Inferences and Conclusion : State all the key observations and conclusion"
      ],
      "metadata": {
        "id": "aYndZndj6FLy"
      }
    },
    {
      "cell_type": "markdown",
      "source": [
        ""
      ],
      "metadata": {
        "id": "FAV1M3ff6H0I"
      }
    },
    {
      "cell_type": "markdown",
      "source": [
        "#**Problem 2** : RBM as a Recommendation System for Movie Review on Movie Lens Dataset\n",
        "\n",
        "1. Use the Movie Lens Dataset, Split it into train-test set. Convert the ratings to Binary (The task is to predict if the user likes a movie or not) \n",
        "2. Build a RBM network, train the model and test it on the test set"
      ],
      "metadata": {
        "id": "QwXEYR7_6Xik"
      }
    },
    {
      "cell_type": "markdown",
      "source": [
        "##Write down the Objectives, Hypothesis and Experimental description for the above problem\n"
      ],
      "metadata": {
        "id": "KtJnEBRj7NTt"
      }
    },
    {
      "cell_type": "markdown",
      "source": [
        ""
      ],
      "metadata": {
        "id": "XgtGYaf07PQM"
      }
    },
    {
      "cell_type": "markdown",
      "source": [
        "## Programming : \n",
        "  Please write a program to demonstrate the same"
      ],
      "metadata": {
        "id": "9nR68D3E7Pux"
      }
    },
    {
      "cell_type": "code",
      "source": [
        ""
      ],
      "metadata": {
        "id": "dbomSIWY7Rr1"
      },
      "execution_count": null,
      "outputs": []
    },
    {
      "cell_type": "markdown",
      "source": [
        "## Inferences and Conclusion : State all the key observations and conclusion"
      ],
      "metadata": {
        "id": "9tU_BVgW7SLS"
      }
    },
    {
      "cell_type": "markdown",
      "source": [
        ""
      ],
      "metadata": {
        "id": "JcFjkezc7ypq"
      }
    }
  ]
}