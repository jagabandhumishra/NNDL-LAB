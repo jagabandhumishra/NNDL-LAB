{
  "nbformat": 4,
  "nbformat_minor": 0,
  "metadata": {
    "colab": {
      "name": "Spring_22_NNDL_Lab_7.ipynb",
      "provenance": []
    },
    "kernelspec": {
      "name": "python3",
      "display_name": "Python 3"
    },
    "language_info": {
      "name": "python"
    }
  },
  "cells": [
    {
      "cell_type": "markdown",
      "source": [
        "# LAB 7 : Image Classification using Convolutional Neural Networks \n",
        "\n",
        "Name : \n",
        "\n",
        "Roll Number : \n",
        "  "
      ],
      "metadata": {
        "id": "tonLnH1sF3Zd"
      }
    },
    {
      "cell_type": "markdown",
      "source": [
        "#**Problem 1** : Demonstrate Image Classification using CNNs on MNIST Fashion Dataset \n",
        "\n",
        "Steps : \n",
        "\n",
        "1. Download the MNIST fashion dataset (Available on Kaggle), there are 60,000 examples in the training set spanning all the 10 classes, Take a subset of this (around 1000 examples from each class) and make sure to have a balanced dataset, follow the same procedure for the test set (Maintain a 90:10 split between Train and Test set). Create a proper analysis table of the dataset using histogram plots.\n",
        "\n",
        "2. Design a convolutional neural network using appropriate layers (Feel free to experiment around this) using any of the Frameworks (Keras/Pytorch/Tensorflow).\n",
        "\n",
        "3. Consider suitable evaluation metrics and use plots as well as confusion matrix to highlight the accuracy, precision, recall and F1 score on both train and test set.\n",
        "\n",
        "4. If you observe degradation in test accuracy make suitable changes to the network to encounter the problem.\n",
        "\n",
        "**Note** : \n",
        "  1. There are no restrications on the usage Libraries as well as Frameworks.\n",
        "  \n",
        "  2. In this Lab, the emphasis will be more on your presentation rather than the solution, so make sure to include appropriate plots and tables to highlight your observations.\n",
        "\n",
        "  3. You can also perform the experiment on a different dataset of Image classification as well but make sure to use balanced data."
      ],
      "metadata": {
        "id": "EzupwyYXGXaS"
      }
    },
    {
      "cell_type": "markdown",
      "source": [
        "##Write down the Objectives, Hypothesis and Experimental description for the above problem\n"
      ],
      "metadata": {
        "id": "y1ysdhlqJpC8"
      }
    },
    {
      "cell_type": "markdown",
      "source": [
        ""
      ],
      "metadata": {
        "id": "gOubMyAxJqBM"
      }
    },
    {
      "cell_type": "markdown",
      "source": [
        "## Programming : \n",
        "  Please write a program to demonstrate the same"
      ],
      "metadata": {
        "id": "9Gkw2UMGJqW1"
      }
    },
    {
      "cell_type": "code",
      "execution_count": null,
      "metadata": {
        "id": "Wl6HYGpMDpr3"
      },
      "outputs": [],
      "source": [
        "## Write your code here"
      ]
    },
    {
      "cell_type": "markdown",
      "source": [
        "## Inferences and Conclusion : State all the key observations and conclusion"
      ],
      "metadata": {
        "id": "1SZ4sbwEJuKy"
      }
    },
    {
      "cell_type": "markdown",
      "source": [
        ""
      ],
      "metadata": {
        "id": "zaCNngyWJwo3"
      }
    }
  ]
}