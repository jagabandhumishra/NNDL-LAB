{
  "nbformat": 4,
  "nbformat_minor": 0,
  "metadata": {
    "colab": {
      "name": "Spring_22_NNDL_Lab_1.ipynb",
      "provenance": []
    },
    "kernelspec": {
      "name": "python3",
      "display_name": "Python 3"
    },
    "language_info": {
      "name": "python"
    }
  },
  "cells": [
    {
      "cell_type": "markdown",
      "source": [
        "# LAB 1 : Realisation of Logic Gates and Linear Regression Equation\n",
        "\n",
        "Name : \n",
        "\n",
        "Roll Number : \n",
        "\n",
        "Referrence Material : Page no. 26-29, Artificial Neural Network by B. Yegnanarayana\n",
        "\n"
      ],
      "metadata": {
        "id": "_tKd_pa0NlSL"
      }
    },
    {
      "cell_type": "markdown",
      "source": [
        "\n",
        "#**Problem 1** : Demonstrate the realization of NAND gate, NOR gate, and XOR gate using McCulloch Pitts (MP) and Rosenblatt’s Perceptron model.\n",
        "\n",
        "  1. Write down the truth table of the logic gates.\n",
        "  2. For MP model: compute the appropriate weight, such that the neuron provide logic\n",
        "  gate output.\n",
        "  3. For Perceptron: use truth table values as input and output to learn the weights\n",
        "  through weight update equation."
      ],
      "metadata": {
        "id": "dErPdS0_P28K"
      }
    },
    {
      "cell_type": "markdown",
      "source": [
        "##Write down the Objectives, Hypothesis and Experimental description for the above problem\n",
        "\n"
      ],
      "metadata": {
        "id": "ryrFfzEKQI5n"
      }
    },
    {
      "cell_type": "markdown",
      "source": [
        "=== Write your answer here ==="
      ],
      "metadata": {
        "id": "eEnbfDy9Rtjo"
      }
    },
    {
      "cell_type": "markdown",
      "source": [
        "## Programming : \n",
        "  Please write a program to demonstrate the same"
      ],
      "metadata": {
        "id": "25VD_TLxRXwN"
      }
    },
    {
      "cell_type": "code",
      "execution_count": 6,
      "metadata": {
        "id": "5SJ_c9i2JkZ6",
        "colab": {
          "base_uri": "https://localhost:8080/"
        },
        "outputId": "74e242a1-d8b8-4772-b554-14816e75a2bb"
      },
      "outputs": [
        {
          "output_type": "stream",
          "name": "stdout",
          "text": [
            "Results for NAND gate : \n",
            "Input is : (0, 0)\n",
            "Logic Gate output is :  1\n",
            "Input is : (0, 1)\n",
            "Logic Gate output is :  1\n",
            "Input is : (1, 0)\n",
            "Logic Gate output is :  1\n",
            "Input is : (1, 1)\n",
            "Logic Gate output is :  0\n",
            "=====================================\n",
            "Results for NOR gate : \n",
            "Input is : (0, 0)\n",
            "Logic Gate output is :  1\n",
            "Input is : (0, 1)\n",
            "Logic Gate output is :  0\n",
            "Input is : (1, 0)\n",
            "Logic Gate output is :  0\n",
            "Input is : (1, 1)\n",
            "Logic Gate output is :  0\n",
            "=====================================\n",
            "Results for XOR gate : \n",
            "Input is : (0, 0)\n",
            "Logic Gate output is :  0\n",
            "Input is : (0, 1)\n",
            "Logic Gate output is :  1\n",
            "Input is : (1, 0)\n",
            "Logic Gate output is :  1\n",
            "Input is : (1, 1)\n",
            "Logic Gate output is :  0\n",
            "=====================================\n"
          ]
        }
      ],
      "source": [
        "## Part A : MP model\n",
        "\n",
        "import numpy as np\n",
        "import matplotlib.pyplot as plt\n",
        "\n",
        "\n",
        "def mp_model(x,gate):\n",
        " \n",
        "  ## Write the activation function and define weights and bias for all three gates\n",
        "  \n",
        "  if gate == \"NAND\":\n",
        "\n",
        "    ## Write your code here\n",
        "\n",
        "  if gate == \"NOR\":\n",
        "\n",
        "    ## Write your code here\n",
        "  \n",
        "  if gate == \"XOR\":\n",
        "\n",
        "    ## Write your code here\n",
        "\n",
        "  \n",
        "  return out\n",
        "\n",
        "\n",
        "inp_list = ## Create a list consisting of inputs to logic gates (Binary, i.e (0,0),(0,1),(1,0),(1,1))\n",
        "req_gates = ## Create a list of all gates (NAND,NOR,XOR)\n",
        "\n",
        "for gate in req_gates:\n",
        "  print('Results for ' + gate + ' gate : ')\n",
        "  for inp in inp_list:\n",
        "    print(\"Input is : \" + str(inp))\n",
        "    out = mp_model(inp,gate)\n",
        "    print(\"Logic Gate output is : \",out)\n",
        "  \n",
        "  print('=====================================')"
      ]
    },
    {
      "cell_type": "code",
      "source": [
        "## Part B : Rosenblatt's Percept\n",
        "\n",
        "import numpy as np\n",
        "import matplotlib.pyplot as plt\n",
        "\n",
        "def rosenblatt_perceptron(inp_list,output,learning_rate,w_initial,num_epochs,gate):\n",
        "\n",
        "  error = []\n",
        "  \n",
        "  for epoch in range(num_epochs):\n",
        "    \n",
        "    ## Write the learning code here, return new weights and error, Save the error value after each iteration to plot a error v/s iteration graph in case of all 3 gates\n",
        "\n",
        "  return w_new,error\n",
        "\n",
        "inp_list = ## Create a list consisting of inputs to logic gates (Binary, i.e (0,0),(0,1),(1,0),(1,1))\n",
        "nand_output = ## Define NAND gate target output\n",
        "nor_output = ## Define NOR gate target output\n",
        "xor_output = ## Define XOR gate target output\n",
        "\n",
        "learning_rate = ## Define a learning rate\n",
        "w_initial = ## Initialise weights\n",
        "num_epochs = ## Set number of epochs\n",
        "\n",
        "## For NAND gate\n",
        "w_new,error = rosenblatt_perceptron(inp_list,nand_output,learning_rate,w_initial,num_epochs,\"NAND\")\n",
        "\n",
        "## For NOR gate\n",
        "w_new,error = rosenblatt_perceptron(inp_list,nor_output,learning_rate,w_initial,num_epochs,\"NOR\")\n",
        "\n",
        "## For XOR gate\n",
        "w_new,error = rosenblatt_perceptron(inp_list,xor_output,learning_rate,w_initial,num_epochs,\"XOR\")\n"
      ],
      "metadata": {
        "colab": {
          "base_uri": "https://localhost:8080/",
          "height": 973
        },
        "id": "Kmm-Glz1Z0_R",
        "outputId": "b093d61a-4458-48a8-86c6-e04ed97e9deb"
      },
      "execution_count": 17,
      "outputs": [
        {
          "output_type": "stream",
          "name": "stdout",
          "text": [
            "Weights for NAND : \n",
            "[ 1.00000000e-01 -2.77555756e-17 -1.00000000e-01]\n",
            "Weights for NOR : \n",
            "[ 0.1 -0.1 -0.1]\n",
            "Weights for XOR : \n",
            "[ 1.00000000e-01 -1.00000000e-01  2.77555756e-17]\n"
          ]
        },
        {
          "output_type": "execute_result",
          "data": {
            "text/plain": [
              "Text(0, 0.5, 'Output Value')"
            ]
          },
          "metadata": {},
          "execution_count": 17
        },
        {
          "output_type": "display_data",
          "data": {
            "image/png": "[encoded data removed]",
            "text/plain": [
              "<Figure size 432x288 with 1 Axes>"
            ]
          },
          "metadata": {
            "needs_background": "light"
          }
        },
        {
          "output_type": "display_data",
          "data": {
            "image/png": "[encoded data removed]",
            "text/plain": [
              "<Figure size 432x288 with 1 Axes>"
            ]
          },
          "metadata": {
            "needs_background": "light"
          }
        },
        {
          "output_type": "display_data",
          "data": {
            "image/png": "[encoded data removed]",
            "text/plain": [
              "<Figure size 432x288 with 1 Axes>"
            ]
          },
          "metadata": {
            "needs_background": "light"
          }
        }
      ]
    },
    {
      "cell_type": "markdown",
      "source": [
        "## Inferences and Conclusion : State all the key observations and conclusion"
      ],
      "metadata": {
        "id": "LhbQ_RnnTHQ8"
      }
    },
    {
      "cell_type": "markdown",
      "source": [
        "=== Write your answer here ==="
      ],
      "metadata": {
        "id": "jBW7LR8fTIPg"
      }
    },
    {
      "cell_type": "markdown",
      "source": [
        "# **Problem 2** : Demonstrate the realization of y = 1 + 2x1 + 2x2 using Widrow’s Adaline model.\n",
        "\n",
        "  1. Generate some N no. of data points using equation y = 1 + 2x1 + 2x2.\n",
        "  2. Use the input and output data to train the Adaline model, after training the Adaline\n",
        "  model should provide appropriate y as output value for any arbitrary input."
      ],
      "metadata": {
        "id": "G_0zUVioR5vs"
      }
    },
    {
      "cell_type": "markdown",
      "source": [
        "## Write down the Objectives, Hypothesis and Experimental description for the above problem"
      ],
      "metadata": {
        "id": "PnoRYE6RSGnA"
      }
    },
    {
      "cell_type": "markdown",
      "source": [
        "=== Write your answer here ==="
      ],
      "metadata": {
        "id": "iy_a0ktjSO32"
      }
    },
    {
      "cell_type": "markdown",
      "source": [
        "## Programming : \n",
        "  Please write a program to demonstrate the same"
      ],
      "metadata": {
        "id": "MLaownmzSR98"
      }
    },
    {
      "cell_type": "code",
      "source": [
        "## Widrow Adaline model : Perform the experiment for different weight inialisations and learning rates and state your observations\n",
        "\n",
        "def widrow_adaline(inp,learning_rate,w_initial,num_epochs,N):\n",
        "\n",
        "  error = []\n",
        "\n",
        "  for epoch in range(num_epochs):\n",
        "\n",
        "    ## Write the learning(training) loop here and return the new weights, also save the error after each iteration\n",
        "\n",
        "\n",
        "  return w_new,error  \n",
        "\n",
        "\n",
        "N = ## Set the number of input points \n",
        "learning_rate = ## Define a learning rate\n",
        "w_initial = ## Initialise weights\n",
        "num_epochs = ## Set number of epochs\n",
        "\n",
        "## Generate the input below \n",
        "\n",
        "inp = ## An input array of the shape (3,100)\n",
        "\n",
        "w_new,error = widrow_adaline(inp,learning_rate,w_initial,num_epochs)\n"
      ],
      "metadata": {
        "id": "8OVt-ObSSUJf",
        "colab": {
          "base_uri": "https://localhost:8080/",
          "height": 365
        },
        "outputId": "85252ec6-9cb7-481f-cbf7-9ec39322bbb3"
      },
      "execution_count": 20,
      "outputs": [
        {
          "output_type": "stream",
          "name": "stdout",
          "text": [
            "Final Weights for Learning rate - 0.001 are :- \n",
            "[[1.214284 ]\n",
            " [2.1428595]\n",
            " [1.9285718]]\n"
          ]
        },
        {
          "output_type": "display_data",
          "data": {
            "image/png": "[encoded data removed]",
            "text/plain": [
              "<Figure size 432x288 with 1 Axes>"
            ]
          },
          "metadata": {
            "needs_background": "light"
          }
        }
      ]
    },
    {
      "cell_type": "markdown",
      "source": [
        "## Inferences and Conclusion : State all the key observations and conclusion"
      ],
      "metadata": {
        "id": "zdnwkeivS1iO"
      }
    },
    {
      "cell_type": "markdown",
      "source": [
        "=== Write your answer here ==="
      ],
      "metadata": {
        "id": "BS70HiWPTAnq"
      }
    }
  ]
}