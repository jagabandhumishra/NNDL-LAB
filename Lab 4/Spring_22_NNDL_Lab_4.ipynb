{
  "nbformat": 4,
  "nbformat_minor": 0,
  "metadata": {
    "colab": {
      "name": "Spring_22_NNDL_Lab_4.ipynb",
      "provenance": [],
      "collapsed_sections": []
    },
    "kernelspec": {
      "name": "python3",
      "display_name": "Python 3"
    },
    "language_info": {
      "name": "python"
    }
  },
  "cells": [
    {
      "cell_type": "markdown",
      "source": [
        "# LAB 4 : Multi Layered Neural Netwrok and Backpropogation  \n",
        "\n",
        "Name : \n",
        "\n",
        "Roll Number : \n",
        "\n",
        "Referrence Material : \n",
        "      \n",
        "  1. **Chapter 4:, page no. 106-136, Artificial Neural Network by B. Yegnanarayana)**\n",
        "\n",
        "  2. https://machinelearningmastery.com/implement-backpropagation-algorithm-scratch-python/\n",
        "\n",
        "  3. https://www.geeksforgeeks.org/deep-neural-net-with-forward-and-back-propagation-from-scratch-python/\n",
        "\n",
        "  4. https://scikit-learn.org/stable/modules/generated/sklearn.datasets.make_moons.html\n",
        "\n",
        "  5. https://towardsdatascience.com/the-vanishing-gradient-problem-69bf08b15484"
      ],
      "metadata": {
        "id": "LbML9MMyc2US"
      }
    },
    {
      "cell_type": "markdown",
      "source": [
        "#**Problem 1** : Demonstrate the working principle of multi layer neural network, with non-linearly separable and non-convex data.\n",
        "\n",
        "Observation to be demonstrated:\n",
        "1. Two layer neural network (i.e one output layer) not able to classify non-linearly\n",
        "separable data. Solve the problem by increasing the no. of layer and changing the\n",
        "activation function from hard-limiting to sigmoid.\n",
        "2. Similar observations have to be demonstrated for non-convex data.(i.e 3 layer network not able to learn the appropriate separating hyper plane, which being resolved\n",
        "using 4 layer network.)\n",
        "3. Show that, using sigmoid activation, the gradient vanishing/ exploding happens\n",
        "during training, try to resolve this problem by changing the activation function."
      ],
      "metadata": {
        "id": "GiwTmOU9dD8S"
      }
    },
    {
      "cell_type": "markdown",
      "source": [
        "##Write down the Objectives, Hypothesis and Experimental description for the above problem\n",
        "\n"
      ],
      "metadata": {
        "id": "QekBYzifdOZ5"
      }
    },
    {
      "cell_type": "markdown",
      "source": [
        ""
      ],
      "metadata": {
        "id": "e7F9HrVTdPnT"
      }
    },
    {
      "cell_type": "markdown",
      "source": [
        "## Programming : \n",
        "  Please write a program to demonstrate the same"
      ],
      "metadata": {
        "id": "buvxDcwVdSBO"
      }
    },
    {
      "cell_type": "markdown",
      "source": [
        "**Step 1** : Data Generation, Generate Non Linearly Seperable and Non Convex Data\n",
        "\n",
        "**Step 2** : Demonstrate how two layered neural network (perceptron without a hidden layer) fails to classify non linearly separable data\n",
        "\n",
        "**Step 3** : Demonstrate how addition of a hidden layer helps in overcoming this problem (Backpropogation)\n",
        "\n",
        "**Step 4** : Demonstrate how 3 Layered Neural network fails on non convex data and 4 layered (2 hidden layers) helps solve this problem\n",
        "\n",
        "**Step 5** : Demonstrate the effect of Vanishing/Exploding gradients occur and how you can solve it"
      ],
      "metadata": {
        "id": "VVTknqCNdjEQ"
      }
    },
    {
      "cell_type": "code",
      "execution_count": null,
      "metadata": {
        "id": "sgJVCyKQTZUL"
      },
      "outputs": [],
      "source": [
        "## Write your code here"
      ]
    },
    {
      "cell_type": "markdown",
      "source": [
        "## Inferences and Conclusion : State all the key observations and conclusion"
      ],
      "metadata": {
        "id": "9BRYL3iJdUOw"
      }
    },
    {
      "cell_type": "markdown",
      "source": [
        ""
      ],
      "metadata": {
        "id": "84OX0ckgdW-T"
      }
    }
  ]
}