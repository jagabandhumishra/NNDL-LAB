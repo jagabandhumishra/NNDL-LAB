{
  "nbformat": 4,
  "nbformat_minor": 0,
  "metadata": {
    "colab": {
      "name": "Spring_22_NNDL_Lab_4_Solution.ipynb",
      "provenance": [],
      "collapsed_sections": []
    },
    "kernelspec": {
      "name": "python3",
      "display_name": "Python 3"
    },
    "language_info": {
      "name": "python"
    }
  },
  "cells": [
    {
      "cell_type": "markdown",
      "source": [
        "# LAB 4 : Multi Layered Neural Netwrok and Backpropogation  \n",
        "\n",
        "Name : \n",
        "\n",
        "Roll Number : \n",
        "\n",
        "Referrence Material : \n",
        "      \n",
        "  1. **Chapter 4:, page no. 106-136, Artificial Neural Network by B. Yegnanarayana)**\n",
        "\n",
        "  2. https://machinelearningmastery.com/implement-backpropagation-algorithm-scratch-python/\n",
        "\n",
        "  3. https://www.geeksforgeeks.org/deep-neural-net-with-forward-and-back-propagation-from-scratch-python/\n",
        "\n",
        "  4. https://scikit-learn.org/stable/modules/generated/sklearn.datasets.make_moons.html\n",
        "\n",
        "  5. https://towardsdatascience.com/the-vanishing-gradient-problem-69bf08b15484"
      ],
      "metadata": {
        "id": "LbML9MMyc2US"
      }
    },
    {
      "cell_type": "markdown",
      "source": [
        "#**Problem 1** : Demonstrate the working principle of multi layer neural network, with non-linearly separable and non-convex data.\n",
        "\n",
        "Observation to be demonstrated:\n",
        "1. Two layer neural network (i.e one output layer) not able to classify non-linearly\n",
        "separable data. Solve the problem by increasing the no. of layer and changing the\n",
        "activation function from hard-limiting to sigmoid.\n",
        "2. Similar observations have to be demonstrated for non-convex data.(i.e 3 layer network not able to learn the appropriate separating hyper plane, which being resolved\n",
        "using 4 layer network.)\n",
        "3. Show that, using sigmoid activation, the gradient vanishing/ exploding happens\n",
        "during training, try to resolve this problem by changing the activation function."
      ],
      "metadata": {
        "id": "GiwTmOU9dD8S"
      }
    },
    {
      "cell_type": "markdown",
      "source": [
        "##Write down the Objectives, Hypothesis and Experimental description for the above problem\n",
        "\n"
      ],
      "metadata": {
        "id": "QekBYzifdOZ5"
      }
    },
    {
      "cell_type": "markdown",
      "source": [
        ""
      ],
      "metadata": {
        "id": "e7F9HrVTdPnT"
      }
    },
    {
      "cell_type": "markdown",
      "source": [
        "## Programming : \n",
        "  Please write a program to demonstrate the same"
      ],
      "metadata": {
        "id": "buvxDcwVdSBO"
      }
    },
    {
      "cell_type": "markdown",
      "source": [
        "**Step 1** : Data Generation, Generate Non Linearly Seperable and Non Convex Data\n",
        "\n",
        "**Step 2** : Demonstrate how two layered neural network (perceptron without a hidden layer) fails to classify non linearly separable data\n",
        "\n",
        "**Step 3** : Demonstrate how addition of a hidden layer helps in overcoming this problem (Backpropogation)\n",
        "\n",
        "**Step 4** : Demonstrate how 3 Layered Neural network fails on non convex data and 4 layered (2 hidden layers) helps solve this problem\n",
        "\n",
        "**Step 5** : Demonstrate the effect of Vanishing/Exploding gradients occur and how you can solve it"
      ],
      "metadata": {
        "id": "VVTknqCNdjEQ"
      }
    },
    {
      "cell_type": "code",
      "source": [
        "import numpy as np\n",
        "import sklearn.datasets as dt\n",
        "import matplotlib.pyplot as plt\n",
        "import torch\n",
        "import torch.nn as nn"
      ],
      "metadata": {
        "id": "7IN3P1j8K4fM"
      },
      "execution_count": 1,
      "outputs": []
    },
    {
      "cell_type": "markdown",
      "source": [
        "**Non Linear Data**"
      ],
      "metadata": {
        "id": "Knry0KQ6Kvaa"
      }
    },
    {
      "cell_type": "code",
      "execution_count": 2,
      "metadata": {
        "id": "sgJVCyKQTZUL",
        "colab": {
          "base_uri": "https://localhost:8080/",
          "height": 334
        },
        "outputId": "279996d7-f4f4-4b4e-ab23-daa6f4cbd203"
      },
      "outputs": [
        {
          "output_type": "stream",
          "name": "stdout",
          "text": [
            "(300, 2)\n",
            "(300,)\n"
          ]
        },
        {
          "output_type": "display_data",
          "data": {
            "text/plain": [
              "<Figure size 432x288 with 1 Axes>"
            ],
            "image/png": "[encoded data removed]"
          },
          "metadata": {
            "needs_background": "light"
          }
        },
        {
          "output_type": "stream",
          "name": "stdout",
          "text": [
            "torch.Size([300, 2])\n",
            "torch.Size([300])\n"
          ]
        }
      ],
      "source": [
        "## Write your code here\n",
        "\n",
        "def NonLinearData():\n",
        "\n",
        "  u1 = np.array([-10,0])\n",
        "  u2 = np.array([-3,10])\n",
        "  u3 = np.array([0,1])\n",
        "  \n",
        "  v1 = v2 = v3 = v4 = np.identity(2)\n",
        "  \n",
        "  c1 = np.random.multivariate_normal(u1,v1,100)\n",
        "  c2 = np.random.multivariate_normal(u2,v2,100)\n",
        "  c3 = np.random.multivariate_normal(u3,v3,100)\n",
        "  \n",
        "  data_k = c1\n",
        "  data_k = np.append(data_k,c2, axis=0)\n",
        "  data_k = np.append(data_k,c3, axis=0)\n",
        "\n",
        "  print(data_k.shape)\n",
        "  \n",
        "\n",
        "  y1 = np.zeros(100)\n",
        "  y2 = np.ones(100)\n",
        "  y3 = np.add(np.ones(100),np.ones(100))\n",
        "\n",
        "  labels = y1\n",
        "  labels = np.append(labels,y2,axis=0)\n",
        "  labels = np.append(labels,y3,axis=0)\n",
        "\n",
        "  print(labels.shape)\n",
        "\n",
        "  plt.scatter(c1[:,0], c1[:,1],marker = '+',color='y')\n",
        "  plt.scatter(c2[:,0], c2[:,1],marker = '*',color='r')\n",
        "  plt.scatter(c3[:,0], c3[:,1],marker = 'x',color='b')\n",
        "  plt.show()\n",
        "\n",
        "  return data_k,labels\n",
        "\n",
        "x1,label1 = NonLinearData()\n",
        "x1 = torch.tensor(x1)\n",
        "label1 = torch.tensor(label1)\n",
        "\n",
        "print(x1.shape)\n",
        "print(label1.shape)"
      ]
    },
    {
      "cell_type": "markdown",
      "source": [
        "**Non Convex Data**"
      ],
      "metadata": {
        "id": "XrUA0_hvKysw"
      }
    },
    {
      "cell_type": "code",
      "source": [
        "def NonConvexData():\n",
        "\n",
        "  x,label = dt.make_circles(factor = 0.4)\n",
        "  my_scatter_plot = plt.scatter(x[:, 0],\n",
        "                              x[:, 1],\n",
        "                              c=label,\n",
        "                              vmin=min(label),\n",
        "                              vmax=max(label)\n",
        "                              )\n",
        "\n",
        "  plt.show()\n",
        "\n",
        "  return x,label\n",
        "\n",
        "x,label = NonConvexData()\n",
        "x = torch.tensor(x)\n",
        "label = torch.tensor(label)\n",
        "\n",
        "print(x.shape)\n",
        "print(label.shape)\n",
        "\n"
      ],
      "metadata": {
        "colab": {
          "base_uri": "https://localhost:8080/",
          "height": 300
        },
        "id": "WBVTMceCK1ef",
        "outputId": "f06e7eed-1c16-4e6b-f8b6-554375440f87"
      },
      "execution_count": 3,
      "outputs": [
        {
          "output_type": "display_data",
          "data": {
            "text/plain": [
              "<Figure size 432x288 with 1 Axes>"
            ],
            "image/png": "[encoded data removed]"
          },
          "metadata": {
            "needs_background": "light"
          }
        },
        {
          "output_type": "stream",
          "name": "stdout",
          "text": [
            "torch.Size([100, 2])\n",
            "torch.Size([100])\n"
          ]
        }
      ]
    },
    {
      "cell_type": "code",
      "source": [
        "def XORdata():\n",
        "\n",
        "  x_xor = np.array([[0,0],[0,1],[1,0],[1,1]])\n",
        "  y_xor = np.array([0, 1, 1, 0])\n",
        "\n",
        "  return x_xor,y_xor\n",
        "\n",
        "x_xor,y_xor = XORdata()\n",
        "\n",
        "x_xor = torch.tensor(x_xor)\n",
        "y_xor = torch.tensor(y_xor)\n",
        "\n",
        "print(x_xor.shape)\n",
        "print(y_xor.shape)"
      ],
      "metadata": {
        "colab": {
          "base_uri": "https://localhost:8080/"
        },
        "id": "0GNEUMJDK3dz",
        "outputId": "d6443f6b-92f9-431e-84ca-2b8d5e59200f"
      },
      "execution_count": 4,
      "outputs": [
        {
          "output_type": "stream",
          "name": "stdout",
          "text": [
            "torch.Size([4, 2])\n",
            "torch.Size([4])\n"
          ]
        }
      ]
    },
    {
      "cell_type": "markdown",
      "source": [
        "**Two Layered Network**"
      ],
      "metadata": {
        "id": "ZriO-LjuLB5Z"
      }
    },
    {
      "cell_type": "code",
      "source": [
        "def TwoLayerNet(X,Y):\n",
        "\n",
        "  X = X.double()\n",
        "  Y = Y.double()\n",
        "  lr = 0.01\n",
        "  w = torch.randn(X.shape[1]).reshape(X.shape[1],1).double()\n",
        "  #b = 0\n",
        "  w1 = []\n",
        "  w2 = []\n",
        "  err = []\n",
        "  max_epochs = 100\n",
        "  for eps in range(max_epochs):\n",
        "    \n",
        "    a = torch.matmul(X,w)\n",
        "    val = []\n",
        "\n",
        "    for i in range(len(a)):\n",
        "      if a[i]>0:\n",
        "         val.append(1)\n",
        "      else:\n",
        "         val.append(0)\n",
        "    val = torch.tensor(val)\n",
        "    \n",
        "    delta = (Y - val).reshape(Y.shape[0],1)\n",
        "    error =  torch.sum(torch.abs(delta))\n",
        "    w += lr*(torch.matmul(X.T,delta))\n",
        "    \n",
        "    w1.append(w[0])\n",
        "    w2.append(w[1])\n",
        "    err.append(error)\n",
        "\n",
        "  plt.plot(err)\n",
        "  print(w) \n",
        "  return err,w\n",
        "\n",
        "\n",
        "err,w = TwoLayerNet(x_xor,y_xor)\n",
        "    \n",
        "    "
      ],
      "metadata": {
        "colab": {
          "base_uri": "https://localhost:8080/",
          "height": 300
        },
        "id": "wq4M4CJ-LEad",
        "outputId": "b07bdb44-c139-4385-ed7a-d8eee9d80d64"
      },
      "execution_count": 5,
      "outputs": [
        {
          "output_type": "stream",
          "name": "stdout",
          "text": [
            "tensor([[-1.5224],\n",
            "        [ 3.0634]], dtype=torch.float64)\n"
          ]
        },
        {
          "output_type": "display_data",
          "data": {
            "text/plain": [
              "<Figure size 432x288 with 1 Axes>"
            ],
            "image/png": "[encoded data removed]"
          },
          "metadata": {
            "needs_background": "light"
          }
        }
      ]
    },
    {
      "cell_type": "code",
      "source": [
        "label = label.reshape([label.shape[0],1])\n",
        "dataset = np.concatenate([x,label],axis=-1)\n",
        "dataset.shape\n",
        "\n",
        "dataset = dataset.tolist()"
      ],
      "metadata": {
        "id": "MNatPHgcLHfP"
      },
      "execution_count": 6,
      "outputs": []
    },
    {
      "cell_type": "code",
      "source": [
        "label1 = label1.reshape([label1.shape[0],1])\n",
        "dataset1 = np.concatenate([x1,label1],axis=-1)\n",
        "dataset1.shape\n",
        "\n",
        "dataset1 = dataset1.tolist()"
      ],
      "metadata": {
        "id": "EcGe9uJ8LI3D"
      },
      "execution_count": 7,
      "outputs": []
    },
    {
      "cell_type": "code",
      "source": [
        "label_xor = y_xor.reshape([y_xor.shape[0],1])\n",
        "dataset_xor = np.concatenate([x_xor,label_xor],axis=-1)\n",
        "dataset_xor.shape\n",
        "\n",
        "dataset_xor = dataset_xor.tolist()"
      ],
      "metadata": {
        "id": "WUQ0e7aXLL2W"
      },
      "execution_count": 8,
      "outputs": []
    },
    {
      "cell_type": "markdown",
      "source": [
        "**Deep Neural Network (>2 Layers)**"
      ],
      "metadata": {
        "id": "wcaNsQchLM-d"
      }
    },
    {
      "cell_type": "code",
      "source": [
        "from math import exp\n",
        "from random import seed\n",
        "from random import random\n",
        " \n",
        "# Initialize a network\n",
        "def initialize_network(n_inputs, n_hidden, n_outputs):\n",
        "\tnetwork = list()\n",
        "\thidden_layer = [{'weights':[random() for i in range(n_inputs + 1)]} for i in range(n_hidden)]\n",
        "\tnetwork.append(hidden_layer)\n",
        "\toutput_layer = [{'weights':[random() for i in range(n_hidden + 1)]} for i in range(n_outputs)]\n",
        "\tnetwork.append(output_layer)\n",
        "\treturn network\n",
        " \n",
        "# Calculate neuron activation for an input\n",
        "def activate(weights, inputs):\n",
        "\tactivation = weights[-1]\n",
        "\tfor i in range(len(weights)-1):\n",
        "\t\tactivation += weights[i] * inputs[i]\n",
        "\treturn activation\n",
        " \n",
        "\n",
        "def transfer(activation,f):\n",
        "  if f == 'ReLU':\n",
        "    \n",
        "    if activation > 0:\n",
        "      return activation\n",
        "    else:\n",
        "      return 0\n",
        "\n",
        "  if f == 'Sigmoid':\n",
        "    return 1.0 / (1.0 + exp(-activation))\n",
        "  \n",
        "  if f == 'None':\n",
        "    if activation>0:\n",
        "      return 1\n",
        "    else:\n",
        "      return 0\n",
        "\n",
        "def transfer_derivative(output,f):\n",
        "  \n",
        "  if f == 'ReLU':\n",
        "    \n",
        "    if output<=0:\n",
        "      output = 0\n",
        "    else:\n",
        "      output = 1\n",
        "    return output\n",
        "  \n",
        "  if f == 'Sigmoid':\n",
        "    return output*(1.0-output)\n",
        "  \n",
        "  if f == 'None':\n",
        "    return 0\n",
        "\n",
        "# Forward propagate input to a network output\n",
        "def forward_propagate(network, row,f):\n",
        "\tinputs = row\n",
        "\tfor layer in network:\n",
        "\t\tnew_inputs = []\n",
        "\t\tfor neuron in layer:\n",
        "\t\t\tactivation = activate(neuron['weights'], inputs)\n",
        "\t\t\tneuron['output'] = transfer(activation,f)\n",
        "\t\t\tnew_inputs.append(neuron['output'])\n",
        "\t\tinputs = new_inputs\n",
        "\treturn inputs\n",
        " \n",
        " \n",
        "# Backpropagate error and store in neurons\n",
        "def backward_propagate_error(network, expected,f):\n",
        "\tfor i in reversed(range(len(network))):\n",
        "\t\tlayer = network[i]\n",
        "\t\terrors = list()\n",
        "\t\tif i != len(network)-1:\n",
        "\t\t\tfor j in range(len(layer)):\n",
        "\t\t\t\terror = 0.0\n",
        "\t\t\t\tfor neuron in network[i + 1]:\n",
        "\t\t\t\t\terror += (neuron['weights'][j] * neuron['delta'])\n",
        "\t\t\t\terrors.append(error)\n",
        "\t\telse:\n",
        "\t\t\tfor j in range(len(layer)):\n",
        "\t\t\t\tneuron = layer[j]\n",
        "\t\t\t\terrors.append(expected[j] - neuron['output'])\n",
        "\t\tfor j in range(len(layer)):\n",
        "\t\t\tneuron = layer[j]\n",
        "\t\t\tneuron['delta'] = errors[j] * transfer_derivative(neuron['output'],f)\n",
        " \n",
        "# Update network weights with error\n",
        "def update_weights(network, row, l_rate,f):\n",
        "\tfor i in range(len(network)):\n",
        "\t\tinputs = row[:-1]\n",
        "\t\tif i != 0:\n",
        "\t\t\tinputs = [neuron['output'] for neuron in network[i - 1]]\n",
        "\t\tfor neuron in network[i]:\n",
        "\t\t\tfor j in range(len(inputs)):\n",
        "\t\t\t\tneuron['weights'][j] += l_rate * neuron['delta'] * inputs[j]\n",
        "\t\t\tneuron['weights'][-1] += l_rate * neuron['delta']\n",
        " \n",
        "## Train\n",
        "\n",
        "def train_network(network,train,l_rate,n_epoch,n_outputs,f):\n",
        "  err = []\n",
        "  for epoch in range(n_epoch):\n",
        "    sum_error = 0\n",
        "    for row in train:\n",
        "      outputs = forward_propagate(network,row,f)\n",
        "      expected = [0 for i in range(n_outputs)]\n",
        "      expected[int(row[-1])] = 1\n",
        "      sum_error += sum([(expected[i]-outputs[i])**2 for i in range(len(expected))])\n",
        "      backward_propagate_error(network,expected,f)\n",
        "      update_weights(network,row,l_rate,f)\n",
        "    #print('>epoch=%d, lrate=%.3f, error=%.3f' % (epoch, l_rate, sum_error))\n",
        "    err.append(sum_error)\n",
        "  \n",
        "  return err\n",
        "# Test training backprop algorithm\n"
      ],
      "metadata": {
        "id": "ccvrztB5LSWz"
      },
      "execution_count": 9,
      "outputs": []
    },
    {
      "cell_type": "markdown",
      "source": [
        "**Solving XOR problem using 3 Layered Network**"
      ],
      "metadata": {
        "id": "dPkOBsjYLUVz"
      }
    },
    {
      "cell_type": "code",
      "source": [
        "seed(1)\n",
        "n_inputs = len(dataset_xor[0]) - 1\n",
        "n_outputs = len(set([row[-1] for row in dataset_xor]))\n",
        "network = initialize_network(n_inputs,2, n_outputs)\n",
        "\n",
        "# for layer in network:\n",
        "# \tprint(layer)\n",
        "\n",
        "f = 'Sigmoid'\n",
        "err = train_network(network, dataset_xor, 0.05, 20000, n_outputs,f)\n",
        "plt.plot(err)\n",
        "plt.xlabel('Iteration')\n",
        "plt.ylabel('Error')\n",
        "plt.title('Error Curve for 3 Layer NN with Sigmoid Activation')\n",
        "\n",
        "for layer in network:\n",
        "  print(layer)"
      ],
      "metadata": {
        "colab": {
          "base_uri": "https://localhost:8080/",
          "height": 350
        },
        "id": "W1WKVN16LYL4",
        "outputId": "ffd8a519-8cca-44c3-d492-f196331d545a"
      },
      "execution_count": 10,
      "outputs": [
        {
          "output_type": "stream",
          "name": "stdout",
          "text": [
            "[{'weights': [-6.6107552581619595, 6.845854800815282, 3.3321902699860453], 'output': 0.9725404293566142, 'delta': 0.0006195327641371748}, {'weights': [-5.689847640833271, 5.472978308765148, -2.9391096844843903], 'output': 0.04086204706603499, 'delta': -0.0009719256203274065}]\n",
            "[{'weights': [6.686614775945585, -7.145806396609015, -3.102515817851696], 'output': 0.9572348252373748, 'delta': 0.0017506486475854543}, {'weights': [-6.709800545962976, 7.1745290923927145, 3.112244630263105], 'output': 0.042290786949477834, 'delta': -0.001712873137493103}]\n"
          ]
        },
        {
          "output_type": "display_data",
          "data": {
            "text/plain": [
              "<Figure size 432x288 with 1 Axes>"
            ],
            "image/png": "[encoded data removed]"
          },
          "metadata": {
            "needs_background": "light"
          }
        }
      ]
    },
    {
      "cell_type": "markdown",
      "source": [
        "**3 Layered Network**"
      ],
      "metadata": {
        "id": "rq7iXJR2LaYq"
      }
    },
    {
      "cell_type": "code",
      "source": [
        "seed(1)\n",
        "n_inputs = len(dataset1[0]) - 1\n",
        "n_outputs = len(set([row[-1] for row in dataset1]))\n",
        "network = initialize_network(n_inputs,1, n_outputs)\n",
        "\n",
        "# for layer in network:\n",
        "# \tprint(layer)\n",
        "\n",
        "f = 'Sigmoid'\n",
        "err = train_network(network, dataset1, 0.01, 500, n_outputs,f)\n",
        "plt.plot(err)\n",
        "plt.xlabel('Iteration')\n",
        "plt.ylabel('Error')\n",
        "plt.title('Error Curve for 3 Layer NN with Sigmoid Activation')"
      ],
      "metadata": {
        "colab": {
          "base_uri": "https://localhost:8080/",
          "height": 312
        },
        "id": "c09KmblILawS",
        "outputId": "38a60a4c-90f8-4e25-857a-840b12eea26f"
      },
      "execution_count": 11,
      "outputs": [
        {
          "output_type": "execute_result",
          "data": {
            "text/plain": [
              "Text(0.5, 1.0, 'Error Curve for 3 Layer NN with Sigmoid Activation')"
            ]
          },
          "metadata": {},
          "execution_count": 11
        },
        {
          "output_type": "display_data",
          "data": {
            "text/plain": [
              "<Figure size 432x288 with 1 Axes>"
            ],
            "image/png": "[encoded data removed]"
          },
          "metadata": {
            "needs_background": "light"
          }
        }
      ]
    },
    {
      "cell_type": "markdown",
      "source": [
        "**4 Layered Network**"
      ],
      "metadata": {
        "id": "IXwhDTl4LgRx"
      }
    },
    {
      "cell_type": "code",
      "source": [
        "seed(1)\n",
        "n_inputs = len(dataset1[0]) - 1\n",
        "n_outputs = len(set([row[-1] for row in dataset1]))\n",
        "network = initialize_network(n_inputs,2, n_outputs)\n",
        "\n",
        "# for layer in network:\n",
        "# \tprint(layer)\n",
        "\n",
        "f = 'Sigmoid'\n",
        "err = train_network(network, dataset1, 0.01, 500, n_outputs,f)\n",
        "plt.plot(err)\n",
        "plt.xlabel('Iteration')\n",
        "plt.ylabel('Error')\n",
        "plt.title('Error Curve for 4 Layer NN with Sigmoid Activation')"
      ],
      "metadata": {
        "colab": {
          "base_uri": "https://localhost:8080/",
          "height": 312
        },
        "id": "ZJBa5of7LibJ",
        "outputId": "39fe4230-2813-4a18-bcfb-ae36181b95fb"
      },
      "execution_count": 12,
      "outputs": [
        {
          "output_type": "execute_result",
          "data": {
            "text/plain": [
              "Text(0.5, 1.0, 'Error Curve for 4 Layer NN with Sigmoid Activation')"
            ]
          },
          "metadata": {},
          "execution_count": 12
        },
        {
          "output_type": "display_data",
          "data": {
            "text/plain": [
              "<Figure size 432x288 with 1 Axes>"
            ],
            "image/png": "[encoded data removed]"
          },
          "metadata": {
            "needs_background": "light"
          }
        }
      ]
    },
    {
      "cell_type": "markdown",
      "source": [
        "**Vanishing Gradient Problem**"
      ],
      "metadata": {
        "id": "W64vtEF2LmCk"
      }
    },
    {
      "cell_type": "code",
      "source": [
        "## With Sigmoid\n",
        "seed(1)\n",
        "n_inputs = len(dataset[0]) - 1\n",
        "n_outputs = len(set([row[-1] for row in dataset]))\n",
        "network = initialize_network(n_inputs,3, n_outputs)\n",
        "\n",
        "# for layer in network:\n",
        "# \tprint(layer)\n",
        "\n",
        "f = 'Sigmoid'\n",
        "err = train_network(network, dataset, 0.01, 200, n_outputs,f)\n",
        "plt.plot(err)\n",
        "plt.xlabel('Iteration')\n",
        "plt.ylabel('Error')\n",
        "plt.title('Error Curve for 5 Layer NN with Sigmoid Activation')"
      ],
      "metadata": {
        "colab": {
          "base_uri": "https://localhost:8080/",
          "height": 312
        },
        "id": "nLknAVEuLoV2",
        "outputId": "5f78acc2-8d60-4175-d894-3a66cd0aed13"
      },
      "execution_count": 13,
      "outputs": [
        {
          "output_type": "execute_result",
          "data": {
            "text/plain": [
              "Text(0.5, 1.0, 'Error Curve for 5 Layer NN with Sigmoid Activation')"
            ]
          },
          "metadata": {},
          "execution_count": 13
        },
        {
          "output_type": "display_data",
          "data": {
            "text/plain": [
              "<Figure size 432x288 with 1 Axes>"
            ],
            "image/png": "[encoded data removed]"
          },
          "metadata": {
            "needs_background": "light"
          }
        }
      ]
    },
    {
      "cell_type": "markdown",
      "source": [
        "**Solved Vanishing Gradient Problem**"
      ],
      "metadata": {
        "id": "u8gtxjPSLr3l"
      }
    },
    {
      "cell_type": "code",
      "source": [
        "seed(1)\n",
        "n_inputs = len(dataset[0]) - 1\n",
        "n_outputs = len(set([row[-1] for row in dataset]))\n",
        "network = initialize_network(n_inputs,3, n_outputs)\n",
        "\n",
        "# for layer in network:\n",
        "# \tprint(layer)\n",
        "\n",
        "f = 'ReLU'\n",
        "err = train_network(network, dataset, 0.01, 200, n_outputs,f)\n",
        "plt.plot(err)\n",
        "plt.xlabel('Iteration')\n",
        "plt.ylabel('Error')\n",
        "plt.title('Error Curve for 5 Layer NN with ReLU Activation')"
      ],
      "metadata": {
        "colab": {
          "base_uri": "https://localhost:8080/",
          "height": 312
        },
        "id": "CCZkX96CLs7L",
        "outputId": "3f234999-bcab-4f2d-82a8-2a24366f3d7b"
      },
      "execution_count": 14,
      "outputs": [
        {
          "output_type": "execute_result",
          "data": {
            "text/plain": [
              "Text(0.5, 1.0, 'Error Curve for 5 Layer NN with ReLU Activation')"
            ]
          },
          "metadata": {},
          "execution_count": 14
        },
        {
          "output_type": "display_data",
          "data": {
            "text/plain": [
              "<Figure size 432x288 with 1 Axes>"
            ],
            "image/png": "[encoded data removed]"
          },
          "metadata": {
            "needs_background": "light"
          }
        }
      ]
    },
    {
      "cell_type": "markdown",
      "source": [
        "## Inferences and Conclusion : State all the key observations and conclusion"
      ],
      "metadata": {
        "id": "9BRYL3iJdUOw"
      }
    },
    {
      "cell_type": "markdown",
      "source": [
        ""
      ],
      "metadata": {
        "id": "84OX0ckgdW-T"
      }
    }
  ]
}