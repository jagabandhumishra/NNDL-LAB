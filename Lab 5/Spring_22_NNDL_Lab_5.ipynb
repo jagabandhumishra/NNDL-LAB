{
  "nbformat": 4,
  "nbformat_minor": 0,
  "metadata": {
    "colab": {
      "name": "Spring_22_NNDL_Lab_5.ipynb",
      "provenance": []
    },
    "kernelspec": {
      "name": "python3",
      "display_name": "Python 3"
    },
    "language_info": {
      "name": "python"
    }
  },
  "cells": [
    {
      "cell_type": "markdown",
      "source": [
        "# LAB 5 : Convolutional Neural Networks  \n",
        "\n",
        "Name : \n",
        "\n",
        "Roll Number : \n",
        "\n",
        "Referrence Material : \n",
        "\n",
        "  MNIST Digit Dataset : http://yann.lecun.com/exdb/mnist/\n",
        "\n",
        "  CNN : https://towardsdatascience.com/a-guide-to-convolutional-neural-networks-from-scratch-f1e3bfc3e2de"
      ],
      "metadata": {
        "id": "7ztwthmd_ENq"
      }
    },
    {
      "cell_type": "markdown",
      "source": [
        "#**Problem 1** : Demonstrate the working principle of convolution neural network (CNN)\n",
        "\n",
        "Observation to be demonstrated:\n",
        "1. Use suitable data to demonstrate the same (MNIST digit data can be used).\n",
        "2. Demonstrate the translation invariant property of pooling layer (can choose two\n",
        "image, from which one is translated and show the output of pooling layer is near\n",
        "to identical for both the images ).\n",
        "3. Demonstrate how backpropagation works with max pooling layer.\n",
        "\n",
        "the same.\n",
        "\n",
        "**Note: Take only two class and a small network, and write you own code to demonstrate the same.**"
      ],
      "metadata": {
        "id": "kq98Srzb_7c6"
      }
    },
    {
      "cell_type": "markdown",
      "source": [
        "##Write down the Objectives, Hypothesis and Experimental description for the above problem\n"
      ],
      "metadata": {
        "id": "uv6cZthvAJCv"
      }
    },
    {
      "cell_type": "markdown",
      "source": [
        ""
      ],
      "metadata": {
        "id": "z2EQWT-fAQ3_"
      }
    },
    {
      "cell_type": "markdown",
      "source": [
        "## Programming : \n",
        "  Please write a program to demonstrate the same"
      ],
      "metadata": {
        "id": "o0ot-6hOAMIr"
      }
    },
    {
      "cell_type": "code",
      "execution_count": null,
      "metadata": {
        "id": "Y7sAQrAC-GNB"
      },
      "outputs": [],
      "source": [
        "## Write your code here"
      ]
    },
    {
      "cell_type": "markdown",
      "source": [
        "## Inferences and Conclusion : State all the key observations and conclusion"
      ],
      "metadata": {
        "id": "z3o9EbwbANBA"
      }
    },
    {
      "cell_type": "markdown",
      "source": [
        ""
      ],
      "metadata": {
        "id": "nNegTDIbAQRm"
      }
    }
  ]
}