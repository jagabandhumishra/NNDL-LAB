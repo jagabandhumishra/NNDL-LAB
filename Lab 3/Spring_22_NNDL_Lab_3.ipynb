{
  "nbformat": 4,
  "nbformat_minor": 0,
  "metadata": {
    "colab": {
      "name": "Spring_22_NNDL_Lab_3.ipynb",
      "provenance": [],
      "collapsed_sections": []
    },
    "kernelspec": {
      "name": "python3",
      "display_name": "Python 3"
    },
    "language_info": {
      "name": "python"
    }
  },
  "cells": [
    {
      "cell_type": "markdown",
      "source": [
        "# LAB 3 : Associative Networks \n",
        "\n",
        "Name : \n",
        "\n",
        "Roll Number : \n",
        "\n",
        "Referrence Material : **Chapter 4, page no. 90-110, Artificial Neural Network by B. Yegnanarayana**\n"
      ],
      "metadata": {
        "id": "JkPVwZjnp1mb"
      }
    },
    {
      "cell_type": "markdown",
      "source": [
        "#**Problem 1** : Demonstrate the working principle of two layer auto-associative network. Observation to be demonstrated are:\n",
        "1. Limitation of no. of patterns to input dimensionality.\n",
        "2. Effect of orthonormal, orthogonal, linearly independent and linearly dependent in\u0002put vectors.\n",
        "3. 3. Use all 3 learning rules (i.e. by computation, Widrow and Hebbian), to find the optimal weight and mention their pros. and cons.\n",
        "\n",
        "Hints:\n",
        "\n",
        "1. Generate data such that each input output data points have different functional\n",
        "relation.\n",
        "2.  First do it using computation method for each set of data (i.e orthogonal, orthonormal, linearly independent and linearly dependent (not all only few) case ), then take the performance as reference, to implement using Widrow and Hebbian learning."
      ],
      "metadata": {
        "id": "dVvALvvbqApN"
      }
    },
    {
      "cell_type": "markdown",
      "source": [
        "##Write down the Objectives, Hypothesis and Experimental description for the above problem\n",
        "\n"
      ],
      "metadata": {
        "id": "Xz2nXk_HqvHm"
      }
    },
    {
      "cell_type": "markdown",
      "source": [
        ""
      ],
      "metadata": {
        "id": "SYbCYWzyq5y6"
      }
    },
    {
      "cell_type": "markdown",
      "source": [
        "## Programming : \n",
        "  Please write a program to demonstrate the same"
      ],
      "metadata": {
        "id": "UBv4aywTqyGU"
      }
    },
    {
      "cell_type": "code",
      "execution_count": null,
      "metadata": {
        "id": "bYd-3K8Vn3HB"
      },
      "outputs": [],
      "source": [
        "## Write your code here to Generate the Data\n",
        "## Important Parameters to generate data are : Number of Datapoints, Dimension of Data"
      ]
    },
    {
      "cell_type": "code",
      "source": [
        "def weights_by_computation(A,B):\n",
        "\n",
        "  ## Here A is input and B is output\n",
        "\n",
        "  weights = ## Write the weight equation here\n",
        "  error = ## Mean Squared Error\n",
        "\n",
        "  return weights,error\n"
      ],
      "metadata": {
        "id": "ltg8CqwXsWft"
      },
      "execution_count": null,
      "outputs": []
    },
    {
      "cell_type": "code",
      "source": [
        "def weights_by_widrow(A,B,num_epochs,learning_rate):\n",
        "\n",
        "  ## Here A is input and B is output\n",
        "  weights_init = ## Initialise weights here\n",
        "\n",
        "  for epoch in range(num_epochs):\n",
        "\n",
        "    ## Write the widrow learning training loop here\n",
        "\n",
        "\n",
        "  return weights,error\n"
      ],
      "metadata": {
        "id": "uuXyhZGftQBz"
      },
      "execution_count": null,
      "outputs": []
    },
    {
      "cell_type": "code",
      "source": [
        "def weights_by_hebbian(A,B,num_epochs,learning_rate):\n",
        "\n",
        "  ## Here A is input and B is output\n",
        "  weights_init = ## Initialise weights here\n",
        "\n",
        "  for epoch in range(num_epochs):\n",
        "\n",
        "    ## Write the widrow learning training loop here\n",
        "\n",
        "\n",
        "  return weights,error"
      ],
      "metadata": {
        "id": "2aAEGtnT201z"
      },
      "execution_count": null,
      "outputs": []
    },
    {
      "cell_type": "markdown",
      "source": [
        "## Inferences and Conclusion : State all the key observations and conclusion"
      ],
      "metadata": {
        "id": "7i-dHXdtq22j"
      }
    },
    {
      "cell_type": "markdown",
      "source": [
        ""
      ],
      "metadata": {
        "id": "5Sx3jrowq60t"
      }
    },
    {
      "cell_type": "markdown",
      "source": [
        "# **Problem 2** : Demonstrate the working principle of two layer associative network performing hetero\u0002association task (i.e each input output pair is related with different functional relations).\n",
        "\n",
        "Observation to be demonstrated are:\n",
        "1. Limitation of no. of patterns to input dimensionality.\n",
        "2. Overcome the limitation by modifying the task to a pattern classification task.\n",
        "3. Use computation and Widrow’s learning law to demonstrate the same.\n",
        "\n",
        "Hints:\n",
        "\n",
        "1. Generate data such that each input output data points have different functional\n",
        "relation.\n",
        "2. First do it using computation method , then take the performance as reference, to\n",
        "implement using Widrow learning.\n",
        "3. Modify the data and network element such that the network will overcome the\n",
        "limitation of limitation of no. of data points with the input dimensionality, and\n",
        "perform pattern classification task."
      ],
      "metadata": {
        "id": "Nuk9TMAtq-gf"
      }
    },
    {
      "cell_type": "markdown",
      "source": [
        "##Write down the Objectives, Hypothesis and Experimental description for the above problem\n",
        "\n"
      ],
      "metadata": {
        "id": "z90pHFuLrjjB"
      }
    },
    {
      "cell_type": "markdown",
      "source": [
        ""
      ],
      "metadata": {
        "id": "8J0DGPTwrkZ8"
      }
    },
    {
      "cell_type": "markdown",
      "source": [
        "## Programming : \n",
        "  Please write a program to demonstrate the same"
      ],
      "metadata": {
        "id": "pDBbGAHWrl3c"
      }
    },
    {
      "cell_type": "code",
      "source": [
        "## Write your code here to Generate the Data\n",
        "## Important Parameters to generate data are : Number of Datapoints, Dimension of Data"
      ],
      "metadata": {
        "id": "zzSf6CMOrmxg"
      },
      "execution_count": null,
      "outputs": []
    },
    {
      "cell_type": "code",
      "source": [
        "## You can use the same function defined above for computation method and widrow's learning law"
      ],
      "metadata": {
        "id": "n3S0FF2Zu-MF"
      },
      "execution_count": null,
      "outputs": []
    },
    {
      "cell_type": "markdown",
      "source": [
        "## Inferences and Conclusion : State all the key observations and conclusion"
      ],
      "metadata": {
        "id": "wXwqOzaqroPN"
      }
    },
    {
      "cell_type": "markdown",
      "source": [
        ""
      ],
      "metadata": {
        "id": "ebBZC2eJrpQl"
      }
    }
  ]
}