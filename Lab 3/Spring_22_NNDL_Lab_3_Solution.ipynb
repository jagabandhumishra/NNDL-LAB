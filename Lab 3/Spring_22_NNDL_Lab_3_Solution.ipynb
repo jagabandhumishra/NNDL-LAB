{
  "nbformat": 4,
  "nbformat_minor": 0,
  "metadata": {
    "colab": {
      "name": "Spring_22_NNDL_Lab_3_Solution.ipynb",
      "provenance": [],
      "collapsed_sections": []
    },
    "kernelspec": {
      "name": "python3",
      "display_name": "Python 3"
    },
    "language_info": {
      "name": "python"
    }
  },
  "cells": [
    {
      "cell_type": "markdown",
      "source": [
        "# LAB 3 : Associative Networks \n",
        "\n",
        "Name : \n",
        "\n",
        "Roll Number : \n",
        "\n",
        "Referrence Material : **Chapter 4, page no. 90-110, Artificial Neural Network by B. Yegnanarayana**\n"
      ],
      "metadata": {
        "id": "JkPVwZjnp1mb"
      }
    },
    {
      "cell_type": "markdown",
      "source": [
        "#**Problem 1** : Demonstrate the working principle of two layer auto-associative network. Observation to be demonstrated are:\n",
        "1. Limitation of no. of patterns to input dimensionality.\n",
        "2. Effect of orthonormal, orthogonal, linearly independent and linearly dependent in\u0002put vectors.\n",
        "3. 3. Use all 3 learning rules (i.e. by computation, Widrow and Hebbian), to find the optimal weight and mention their pros. and cons.\n",
        "\n",
        "Hints:\n",
        "\n",
        "1. Generate data such that each input output data points have different functional\n",
        "relation.\n",
        "2.  First do it using computation method for each set of data (i.e orthogonal, orthonormal, linearly independent and linearly dependent (not all only few) case ), then take the performance as reference, to implement using Widrow and Hebbian learning."
      ],
      "metadata": {
        "id": "dVvALvvbqApN"
      }
    },
    {
      "cell_type": "markdown",
      "source": [
        "##Write down the Objectives, Hypothesis and Experimental description for the above problem\n",
        "\n"
      ],
      "metadata": {
        "id": "Xz2nXk_HqvHm"
      }
    },
    {
      "cell_type": "markdown",
      "source": [
        ""
      ],
      "metadata": {
        "id": "SYbCYWzyq5y6"
      }
    },
    {
      "cell_type": "markdown",
      "source": [
        "## Programming : \n",
        "  Please write a program to demonstrate the same"
      ],
      "metadata": {
        "id": "UBv4aywTqyGU"
      }
    },
    {
      "cell_type": "code",
      "source": [
        "import numpy as np\n",
        "import matplotlib.pyplot as plt\n",
        "from scipy.stats import ortho_group\n",
        "import torch"
      ],
      "metadata": {
        "id": "ku5uXAFwJk6V"
      },
      "execution_count": null,
      "outputs": []
    },
    {
      "cell_type": "code",
      "execution_count": null,
      "metadata": {
        "id": "bYd-3K8Vn3HB"
      },
      "outputs": [],
      "source": [
        "## Write your code here to Generate the Data\n",
        "## Important Parameters to generate data are : Number of Datapoints, Dimension of Data\n",
        "\n",
        "#Orthogonal Input data\n",
        "a1 = np.array([1,1,-1,-1]).reshape(4,1)\n",
        "a2 = np.array([-1,1,1,-1]).reshape(4,1)\n",
        "a3 = np.array([-1,1,-1,1]).reshape(4,1)\n",
        "a4 = np.array([1,1,1,1]).reshape(4,1)\n",
        "\n",
        "Orthogonal_inp = np.concatenate((a1,a2,a3),axis = 1)\n",
        "Orthogonal_inp = np.array([[1,1,-1,-1],[-1,1,1,-1],[-1,1,-1,1]])\n",
        "# Orthonormal Input Vectors\n",
        "Orthonormal_inp = Orthogonal_inp/2\n",
        "Orthonormal_inp = ortho_group.rvs(dim=3)\n",
        "\n",
        "#LI input\n",
        "\n",
        "a5 = np.array([-1,-1,-1,-1]).reshape(4,1)\n",
        "a6 = np.array([1,-1,-1,1]).reshape(4,1)\n",
        "a7 = np.array([-1,-1,1,-1]).reshape(4,1)\n",
        "LI_inp = np.concatenate((a5,a6,a7),axis = 1)\n",
        "LI_inp = np.array([[-1,-1,-1],[1,-1,-1],[1,-1,1]])\n",
        "# Linearly Dependent Vectors\n",
        "\n",
        "a8 = np.array([1,-1,1,-1]).reshape(4,1)\n",
        "a9 = np.array([-1,1,-1,1]).reshape(4,1)\n",
        "a10 = np.array([1,1,-1,1]).reshape(4,1)\n",
        "LD_inp = np.concatenate((a8,a9,a10),axis = 1)\n",
        "LD_inp = np.array([[1,-1,-1],[-1,1,-1],[0,0,-2]])\n",
        "\n",
        "\n",
        "# Output vectors\n",
        "b_LI = np.array([1,2,1])* LI_inp\n",
        "b_LD = np.array([1,2,1])*LD_inp\n",
        "b_orthogonal = np.array([1,2,1])*Orthonormal_inp"
      ]
    },
    {
      "cell_type": "code",
      "source": [
        "def weights_by_computation(A,B):\n",
        "\n",
        "  ## Here A is input and B is output\n",
        "  A_inv = np.linalg.pinv(A)\n",
        "  weights = np.dot(B,A_inv) ## Write the weight equation here\n",
        "  b_est = np.dot(weights,A)\n",
        "  error = (np.square(np.linalg.norm(B - b_est)))*(1/A.shape[1])## Mean Squared Error\n",
        "  \n",
        "  return weights,error\n"
      ],
      "metadata": {
        "id": "ltg8CqwXsWft"
      },
      "execution_count": null,
      "outputs": []
    },
    {
      "cell_type": "code",
      "source": [
        "# for linearly independent data\n",
        "w_LI, err_LI = weights_by_computation(LI_inp, b_LI)\n",
        "print(\"Weights by computation for LI data \\n\")\n",
        "print(\"Weights: \", w_LI)\n",
        "print('\\n Error:', np.round(err_LI))"
      ],
      "metadata": {
        "colab": {
          "base_uri": "https://localhost:8080/"
        },
        "id": "9WTmUJdjJfd7",
        "outputId": "a0fce734-ef2b-4e30-ae34-13ad5e135d97"
      },
      "execution_count": null,
      "outputs": [
        {
          "output_type": "stream",
          "name": "stdout",
          "text": [
            "Weights by computation for LI data \n",
            "\n",
            "Weights:  [[ 1.50000000e+00  2.77555756e-16  5.00000000e-01]\n",
            " [ 5.00000000e-01  1.00000000e+00  5.00000000e-01]\n",
            " [ 5.00000000e-01 -1.66533454e-16  1.50000000e+00]]\n",
            "\n",
            " Error: 0.0\n"
          ]
        }
      ]
    },
    {
      "cell_type": "code",
      "source": [
        "# for linearly dependent data\n",
        "w_LD, err_LD = weights_by_computation(LD_inp, b_LD)\n",
        "print(\"Weights by computation for LD data \\n\")\n",
        "print(\"Weights: \", w_LD)\n",
        "print('\\n Error:', np.round((err_LD), 6))"
      ],
      "metadata": {
        "colab": {
          "base_uri": "https://localhost:8080/"
        },
        "id": "ax7xkLtgJf3G",
        "outputId": "46a42e0b-8414-4c39-fee6-84cc6b441299"
      },
      "execution_count": null,
      "outputs": [
        {
          "output_type": "stream",
          "name": "stdout",
          "text": [
            "Weights by computation for LD data \n",
            "\n",
            "Weights:  [[ 0.91666667 -0.58333333  0.33333333]\n",
            " [-0.58333333  0.91666667  0.33333333]\n",
            " [ 0.33333333  0.33333333  0.66666667]]\n",
            "\n",
            " Error: 0.333333\n"
          ]
        }
      ]
    },
    {
      "cell_type": "code",
      "source": [
        "# for Orthonormal data\n",
        "w_orth, err_orth = weights_by_computation(Orthonormal_inp, b_orthogonal)\n",
        "print(\"Weights by computation for orthonormal data \\n\")\n",
        "print(\"Weights: \", w_orth)\n",
        "print('\\n Error:', np.round(err_orth))"
      ],
      "metadata": {
        "colab": {
          "base_uri": "https://localhost:8080/"
        },
        "id": "QO-isqDwJg-w",
        "outputId": "d1e6ee8b-fea4-4e83-8804-1299c5bb6744"
      },
      "execution_count": null,
      "outputs": [
        {
          "output_type": "stream",
          "name": "stdout",
          "text": [
            "Weights by computation for orthonormal data \n",
            "\n",
            "Weights:  [[ 1.54417319  0.05569365 -0.49492115]\n",
            " [ 0.05569365  1.00569999 -0.05065292]\n",
            " [-0.49492115 -0.05065292  1.45012682]]\n",
            "\n",
            " Error: 0.0\n"
          ]
        }
      ]
    },
    {
      "cell_type": "code",
      "source": [
        "def weights_by_widrow(A,B,num_epochs,learning_rate):\n",
        "\n",
        "  ## Here A is input and B is output\n",
        "  weights_init = (np.zeros((B.shape[0],A.shape[0]))) ## Initialise weights here\n",
        "  error = []\n",
        "  weights = weights_init\n",
        "  for epoch in range(num_epochs):\n",
        "    ## Write the widrow learning training loop here\n",
        "        #calculating the output value\n",
        "        b_est = np.dot(weights,A)           \n",
        "        #calculating the error\n",
        "        err = B - b_est\n",
        "\n",
        "        weightChange = learning_rate*err\n",
        "        weights += np.dot(weightChange,A.T)\n",
        "        cost  = np.sum(np.square(err))/A.shape[0]\n",
        "        error.append(cost)\n",
        "\n",
        "  return weights,error\n"
      ],
      "metadata": {
        "id": "uuXyhZGftQBz"
      },
      "execution_count": null,
      "outputs": []
    },
    {
      "cell_type": "code",
      "source": [
        "# for LI data \n",
        "x = np.arange(500)\n",
        "w_LI, err_LI = weights_by_widrow(LI_inp, b_LI, 500, 0.1)\n",
        "print(\"\\n ### Weights for LI data through widro learning law\\n\", w_LI)\n",
        "print(\"\\n Error computed\\n\", np.round(err_LI[-1],7))\n",
        "plt.figure()\n",
        "plt.plot(x,err_LI)\n",
        "plt.show()"
      ],
      "metadata": {
        "colab": {
          "base_uri": "https://localhost:8080/",
          "height": 404
        },
        "id": "-OHaysifJnoW",
        "outputId": "c24f1523-88a5-47cf-abfe-f5bc3529321e"
      },
      "execution_count": null,
      "outputs": [
        {
          "output_type": "stream",
          "name": "stdout",
          "text": [
            "\n",
            " ### Weights for LI data through widro learning law\n",
            " [[1.50000000e+00 3.16556265e-16 5.00000000e-01]\n",
            " [5.00000000e-01 1.00000000e+00 5.00000000e-01]\n",
            " [5.00000000e-01 2.50468497e-16 1.50000000e+00]]\n",
            "\n",
            " Error computed\n",
            " 0.0\n"
          ]
        },
        {
          "output_type": "display_data",
          "data": {
            "text/plain": [
              "<Figure size 432x288 with 1 Axes>"
            ],
            "image/png": "[encoded data removed]"
          },
          "metadata": {
            "needs_background": "light"
          }
        }
      ]
    },
    {
      "cell_type": "code",
      "source": [
        "# for LD data \n",
        "x = np.arange(500)\n",
        "w_LD, err_LD = weights_by_widrow(LD_inp, b_LD, 500, 0.1)\n",
        "print(\"\\n ### Weights for LD data through widro learning law\\n\", w_LD)\n",
        "print(\"\\n Error computed\\n\", np.round(err_LD[-1],7))\n",
        "plt.figure()\n",
        "plt.plot(x,err_LD)\n",
        "plt.show()"
      ],
      "metadata": {
        "colab": {
          "base_uri": "https://localhost:8080/",
          "height": 404
        },
        "id": "6o6cVp8WJp_-",
        "outputId": "8dfbf430-2fa0-4514-abfd-e02805ebb584"
      },
      "execution_count": null,
      "outputs": [
        {
          "output_type": "stream",
          "name": "stdout",
          "text": [
            "\n",
            " ### Weights for LD data through widro learning law\n",
            " [[ 0.91666667 -0.58333333  0.33333333]\n",
            " [-0.58333333  0.91666667  0.33333333]\n",
            " [ 0.33333333  0.33333333  0.66666667]]\n",
            "\n",
            " Error computed\n",
            " 0.3333333\n"
          ]
        },
        {
          "output_type": "display_data",
          "data": {
            "text/plain": [
              "<Figure size 432x288 with 1 Axes>"
            ],
            "image/png": "[encoded data removed]"
          },
          "metadata": {
            "needs_background": "light"
          }
        }
      ]
    },
    {
      "cell_type": "code",
      "source": [
        "# for orthonormal data \n",
        "x = np.arange(500)\n",
        "w_orth, err_orth = weights_by_widrow(Orthonormal_inp, b_orthogonal, 500, 0.1)\n",
        "print(\"\\n ### Weights for orthonormal data through widro learning law\\n\", w_orth)\n",
        "print(\"\\n Error computed\\n\", np.round(err_orth[-1],7))\n",
        "plt.figure()\n",
        "plt.plot(x,err_orth)\n",
        "plt.show()"
      ],
      "metadata": {
        "colab": {
          "base_uri": "https://localhost:8080/",
          "height": 404
        },
        "id": "5AErVE8qJreU",
        "outputId": "d3b434d5-8b67-4622-b7ea-58713d903651"
      },
      "execution_count": null,
      "outputs": [
        {
          "output_type": "stream",
          "name": "stdout",
          "text": [
            "\n",
            " ### Weights for orthonormal data through widro learning law\n",
            " [[ 1.54417319  0.05569365 -0.49492115]\n",
            " [ 0.05569365  1.00569999 -0.05065292]\n",
            " [-0.49492115 -0.05065292  1.45012682]]\n",
            "\n",
            " Error computed\n",
            " 0.0\n"
          ]
        },
        {
          "output_type": "display_data",
          "data": {
            "text/plain": [
              "<Figure size 432x288 with 1 Axes>"
            ],
            "image/png": "[encoded data removed]"
          },
          "metadata": {
            "needs_background": "light"
          }
        }
      ]
    },
    {
      "cell_type": "code",
      "source": [
        "def weights_by_hebbian(A,B,num_epochs,learning_rate):\n",
        "\n",
        "  ## Here A is input and B is output\n",
        "  weights_init = (np.zeros((B.shape[0],A.shape[0])))## Initialise weights here\n",
        "  weights = weights_init\n",
        "  error =[]\n",
        "  for i in range(A.shape[1]):\n",
        "\n",
        "    ## Write the widrow learning training loop here\n",
        "    input=np.matrix(A[:,i]).T\n",
        "    d_op=np.matrix(B[:,i]).T\n",
        "\n",
        "    del_weights = learning_rate*(d_op@input.T)\n",
        "    weights = weights+del_weights\n",
        "\n",
        "    err= B-weights@A\n",
        "    error.append((np.square(np.linalg.norm(err)))*1/A.shape[1])\n",
        "\n",
        "  return weights,error"
      ],
      "metadata": {
        "id": "2aAEGtnT201z"
      },
      "execution_count": null,
      "outputs": []
    },
    {
      "cell_type": "code",
      "source": [
        "# for LI data \n",
        "x = np.arange(3)\n",
        "w_LI, err_LI = weights_by_hebbian(LI_inp, b_LI, 500, 1)\n",
        "print(\"\\n ### Weights for LI data through hebbian learning law\\n\", w_LI)\n",
        "print(\"\\n Error computed\\n\", np.round(err_LI[-1],5))\n",
        "plt.figure()\n",
        "plt.plot(x,err_LI)\n",
        "plt.show()"
      ],
      "metadata": {
        "colab": {
          "base_uri": "https://localhost:8080/",
          "height": 404
        },
        "id": "8zufS6d0Jv01",
        "outputId": "7350d1ce-5b8a-43ab-d09d-8aae5e8c8410"
      },
      "execution_count": null,
      "outputs": [
        {
          "output_type": "stream",
          "name": "stdout",
          "text": [
            "\n",
            " ### Weights for LI data through hebbian learning law\n",
            " [[4. 2. 0.]\n",
            " [2. 4. 2.]\n",
            " [0. 2. 4.]]\n",
            "\n",
            " Error computed\n",
            " 46.0\n"
          ]
        },
        {
          "output_type": "display_data",
          "data": {
            "text/plain": [
              "<Figure size 432x288 with 1 Axes>"
            ],
            "image/png": "[encoded data removed]"
          },
          "metadata": {
            "needs_background": "light"
          }
        }
      ]
    },
    {
      "cell_type": "code",
      "source": [
        "# for LD data \n",
        "x = np.arange(3)\n",
        "w_LD, err_LD = weights_by_hebbian(LD_inp, b_LD, 500, 1)\n",
        "print(\"\\n ### Weights for LD data through hebbian learning law\\n\", w_LD)\n",
        "print(\"\\n Error computed\\n\", np.round(err_LD[-1],5))\n",
        "plt.figure()\n",
        "plt.plot(x,err_LD)\n",
        "plt.show()"
      ],
      "metadata": {
        "colab": {
          "base_uri": "https://localhost:8080/",
          "height": 406
        },
        "id": "vAbkPKEtJwn-",
        "outputId": "d88d795f-f7fd-4c21-ef0e-b9302ce8adc5"
      },
      "execution_count": null,
      "outputs": [
        {
          "output_type": "stream",
          "name": "stdout",
          "text": [
            "\n",
            " ### Weights for LD data through hebbian learning law\n",
            " [[ 4. -2.  2.]\n",
            " [-2.  4.  2.]\n",
            " [ 2.  2.  4.]]\n",
            "\n",
            " Error computed\n",
            " 77.33333\n"
          ]
        },
        {
          "output_type": "display_data",
          "data": {
            "text/plain": [
              "<Figure size 432x288 with 1 Axes>"
            ],
            "image/png": "[encoded data removed]"
          },
          "metadata": {
            "needs_background": "light"
          }
        }
      ]
    },
    {
      "cell_type": "code",
      "source": [
        "# for orthonormal data \n",
        "x = np.arange(3)\n",
        "w_orth, err_orth = weights_by_hebbian(Orthonormal_inp, b_orthogonal, 500, 1)\n",
        "print(\"\\n ### Weights for LI data through hebbian learning law\\n\", w_orth)\n",
        "print(\"\\n Error computed\\n\", np.round(err_orth[-1],5))\n",
        "plt.figure()\n",
        "plt.plot(x,err_orth)\n",
        "plt.show()"
      ],
      "metadata": {
        "colab": {
          "base_uri": "https://localhost:8080/",
          "height": 408
        },
        "id": "zo_u4hlhJxvz",
        "outputId": "440ef395-250b-40a8-842d-b6c80b497c21"
      },
      "execution_count": null,
      "outputs": [
        {
          "output_type": "stream",
          "name": "stdout",
          "text": [
            "\n",
            " ### Weights for LI data through hebbian learning law\n",
            " [[ 1.54417319  0.05569365 -0.49492115]\n",
            " [ 0.05569365  1.00569999 -0.05065292]\n",
            " [-0.49492115 -0.05065292  1.45012682]]\n",
            "\n",
            " Error computed\n",
            " 0.0\n"
          ]
        },
        {
          "output_type": "display_data",
          "data": {
            "text/plain": [
              "<Figure size 432x288 with 1 Axes>"
            ],
            "image/png": "[encoded data removed]"
          },
          "metadata": {
            "needs_background": "light"
          }
        }
      ]
    },
    {
      "cell_type": "markdown",
      "source": [
        "## Inferences and Conclusion : State all the key observations and conclusion"
      ],
      "metadata": {
        "id": "7i-dHXdtq22j"
      }
    },
    {
      "cell_type": "markdown",
      "source": [
        ""
      ],
      "metadata": {
        "id": "5Sx3jrowq60t"
      }
    },
    {
      "cell_type": "markdown",
      "source": [
        "# **Problem 2** : Demonstrate the working principle of two layer associative network performing hetero\u0002association task (i.e each input output pair is related with different functional relations).\n",
        "\n",
        "Observation to be demonstrated are:\n",
        "1. Limitation of no. of patterns to input dimensionality.\n",
        "2. Overcome the limitation by modifying the task to a pattern classification task.\n",
        "3. Use computation and Widrow’s learning law to demonstrate the same.\n",
        "\n",
        "Hints:\n",
        "\n",
        "1. Generate data such that each input output data points have different functional\n",
        "relation.\n",
        "2. First do it using computation method , then take the performance as reference, to\n",
        "implement using Widrow learning.\n",
        "3. Modify the data and network element such that the network will overcome the\n",
        "limitation of limitation of no. of data points with the input dimensionality, and\n",
        "perform pattern classification task."
      ],
      "metadata": {
        "id": "Nuk9TMAtq-gf"
      }
    },
    {
      "cell_type": "markdown",
      "source": [
        "##Write down the Objectives, Hypothesis and Experimental description for the above problem\n",
        "\n"
      ],
      "metadata": {
        "id": "z90pHFuLrjjB"
      }
    },
    {
      "cell_type": "markdown",
      "source": [
        ""
      ],
      "metadata": {
        "id": "8J0DGPTwrkZ8"
      }
    },
    {
      "cell_type": "markdown",
      "source": [
        "## Programming : \n",
        "  Please write a program to demonstrate the same"
      ],
      "metadata": {
        "id": "pDBbGAHWrl3c"
      }
    },
    {
      "cell_type": "code",
      "source": [
        "## Write your code here to Generate the Data\n",
        "## Important Parameters to generate data are : Number of Datapoints, Dimension of Data\n",
        "\n",
        "inp1 = np.array([[1,1,0,0],[0,1,1,0],[0,1,0,1],[1,0,0,0]])\n",
        "desired_op = np.array([[1,0],[1,1],[1,1],[1,0]])\n",
        "print(\"input for M>L case \\n\", inp1)\n",
        "print(\"\\n desired output\\n\",desired_op)\n",
        "print(\"Input shape:\", inp1.shape, \"\\nOutput shape: \", desired_op.shape)"
      ],
      "metadata": {
        "id": "zzSf6CMOrmxg",
        "colab": {
          "base_uri": "https://localhost:8080/"
        },
        "outputId": "7d167da9-bbf9-473f-e12b-28f66b2ed3f4"
      },
      "execution_count": null,
      "outputs": [
        {
          "output_type": "stream",
          "name": "stdout",
          "text": [
            "input for M>L case \n",
            " [[1 1 0 0]\n",
            " [0 1 1 0]\n",
            " [0 1 0 1]\n",
            " [1 0 0 0]]\n",
            "\n",
            " desired output\n",
            " [[1 0]\n",
            " [1 1]\n",
            " [1 1]\n",
            " [1 0]]\n",
            "Input shape: (4, 4) \n",
            "Output shape:  (4, 2)\n"
          ]
        }
      ]
    },
    {
      "cell_type": "code",
      "source": [
        "## You can use the same function defined above for computation method and widrow's learning law\n",
        "\n",
        "# weights by computation\n",
        "weights, error = weights_by_computation(inp1, desired_op.T)\n",
        "print(\"weights by computation for L<M \\n\", weights)\n",
        "print(\"\\n error computed \\n\", error)"
      ],
      "metadata": {
        "id": "n3S0FF2Zu-MF",
        "colab": {
          "base_uri": "https://localhost:8080/"
        },
        "outputId": "3ed389c4-629a-47df-9c7d-78083007b8ff"
      },
      "execution_count": null,
      "outputs": [
        {
          "output_type": "stream",
          "name": "stdout",
          "text": [
            "weights by computation for L<M \n",
            " [[-1.00000000e+00  1.00000000e+00  1.00000000e+00  2.00000000e+00]\n",
            " [-2.22044605e-16  1.00000000e+00 -2.53304001e-16 -4.44089210e-16]]\n",
            "\n",
            " error computed \n",
            " 6.385012872854573e-31\n"
          ]
        }
      ]
    },
    {
      "cell_type": "code",
      "source": [
        "#weights by widrow learning\n",
        "x = np.arange(500)\n",
        "weight_3, error_3 = weights_by_widrow(inp1, desired_op.T,500,0.1)\n",
        "print(\"\\n ### Weights for L<M through widro learning law\\n\", weight_3)\n",
        "print(\"\\n Error computed\\n\", np.round(error_3[-1],7))\n",
        "plt.figure()\n",
        "plt.plot(x,error_3)\n",
        "plt.show()"
      ],
      "metadata": {
        "colab": {
          "base_uri": "https://localhost:8080/",
          "height": 386
        },
        "id": "mJKgDq9rKTKV",
        "outputId": "f9ad277d-a0ee-4cae-887e-f146ac52817b"
      },
      "execution_count": null,
      "outputs": [
        {
          "output_type": "stream",
          "name": "stdout",
          "text": [
            "\n",
            " ### Weights for L<M through widro learning law\n",
            " [[-9.98598014e-01  9.99509933e-01  9.99509933e-01  1.99837131e+00]\n",
            " [ 1.21831140e-04  9.99957414e-01 -4.25863014e-05 -1.41531496e-04]]\n",
            "\n",
            " Error computed\n",
            " 2e-07\n"
          ]
        },
        {
          "output_type": "display_data",
          "data": {
            "text/plain": [
              "<Figure size 432x288 with 1 Axes>"
            ],
            "image/png": "[encoded data removed]"
          },
          "metadata": {
            "needs_background": "light"
          }
        }
      ]
    },
    {
      "cell_type": "code",
      "source": [
        "# input for case where L>M\n",
        "inp2 = np.array([[1,1,0,0],[0,1,1,0],[0,1,0,1],[1,0,0,0],[0,0,0,1]]).T\n",
        "inp2_bias = np.concatenate((inp2, np.array([-1,-1,-1,-1,-1]).reshape(1,5)),axis=0)\n",
        "desired_op_2 = np.array([[1,0],[1,1],[1,1],[1,0],[0,1]])\n",
        "print(\"input for M<L case \\n\", inp2)\n",
        "print(\"\\n desired output\\n\",desired_op_2)\n",
        "print(\"Input shape:\", inp2.shape, \"\\nOutput shape: \", desired_op_2.shape)"
      ],
      "metadata": {
        "colab": {
          "base_uri": "https://localhost:8080/"
        },
        "id": "mqbvV8Q4KUvv",
        "outputId": "328c5d1f-0f55-47ef-fd8b-8b957e3f80e9"
      },
      "execution_count": null,
      "outputs": [
        {
          "output_type": "stream",
          "name": "stdout",
          "text": [
            "input for M<L case \n",
            " [[1 0 0 1 0]\n",
            " [1 1 1 0 0]\n",
            " [0 1 0 0 0]\n",
            " [0 0 1 0 1]]\n",
            "\n",
            " desired output\n",
            " [[1 0]\n",
            " [1 1]\n",
            " [1 1]\n",
            " [1 0]\n",
            " [0 1]]\n",
            "Input shape: (4, 5) \n",
            "Output shape:  (5, 2)\n"
          ]
        }
      ]
    },
    {
      "cell_type": "markdown",
      "source": [
        "## Inferences and Conclusion : State all the key observations and conclusion"
      ],
      "metadata": {
        "id": "wXwqOzaqroPN"
      }
    },
    {
      "cell_type": "markdown",
      "source": [
        ""
      ],
      "metadata": {
        "id": "ebBZC2eJrpQl"
      }
    }
  ]
}