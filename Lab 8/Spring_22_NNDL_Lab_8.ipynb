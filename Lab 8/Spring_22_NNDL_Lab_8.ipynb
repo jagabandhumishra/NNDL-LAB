{
  "nbformat": 4,
  "nbformat_minor": 0,
  "metadata": {
    "colab": {
      "name": "Spring_22_NNDL_Lab_8.ipynb",
      "provenance": []
    },
    "kernelspec": {
      "name": "python3",
      "display_name": "Python 3"
    },
    "language_info": {
      "name": "python"
    }
  },
  "cells": [
    {
      "cell_type": "markdown",
      "source": [
        "# LAB 8 : Autoencoders\n",
        "\n",
        "Name : \n",
        "\n",
        "Roll Number : \n",
        "\n",
        "Reference : \n",
        " 1. https://towardsdatascience.com/how-to-make-an-autoencoder-2f2d99cd5103\n",
        " 2. https://www.geeksforgeeks.org/contractive-autoencoder-cae/\n",
        " 3. https://blog.keras.io/building-autoencoders-in-keras.html"
      ],
      "metadata": {
        "id": "dW7tCK756Dv_"
      }
    },
    {
      "cell_type": "markdown",
      "source": [
        "#Problem 1 :  Demonstrate the working principle of Autoencoder. (pytorch/keras/tensorflow)\n",
        "Observation to be demonstrated\n",
        "1. Use suitable data to demonstrate the same. (MNIST fashion/digit data can be\n",
        "used)\n",
        "2. Train the auto encoder with clean image and test using noisy image (you can add\n",
        "some random Gaussian noise). Demonstrate the effect with/without dropout.\n",
        "3. CNN with output Sigmoid layer and MSE loss can be used. Justify why Sigmoid is fine in this case.\n",
        "4. Train the network with both clean and noisy version of image where the labeled\n",
        "image is clean one (that given output to the autoencoder). Demonstrate output\n",
        "of the autoencoder with noisy image (that is generated separately not used in\n",
        "training)."
      ],
      "metadata": {
        "id": "UWVic6DI6N2q"
      }
    },
    {
      "cell_type": "markdown",
      "source": [
        "##Write down the Objectives, Hypothesis and Experimental description for the above problem\n"
      ],
      "metadata": {
        "id": "18OqBI_46agW"
      }
    },
    {
      "cell_type": "markdown",
      "source": [
        ""
      ],
      "metadata": {
        "id": "qAD2Grxw6cDP"
      }
    },
    {
      "cell_type": "markdown",
      "source": [
        "## Programming : \n",
        "  Please write a program to demonstrate the same"
      ],
      "metadata": {
        "id": "vEBGKGL86fLd"
      }
    },
    {
      "cell_type": "code",
      "execution_count": null,
      "metadata": {
        "id": "BiVryKNm5_ir"
      },
      "outputs": [],
      "source": [
        "## Write your code here"
      ]
    },
    {
      "cell_type": "markdown",
      "source": [
        "## Inferences and Conclusion : State all the key observations and conclusion"
      ],
      "metadata": {
        "id": "TXp4FoZP6WxT"
      }
    },
    {
      "cell_type": "markdown",
      "source": [
        ""
      ],
      "metadata": {
        "id": "mT2UXMxy6ev0"
      }
    },
    {
      "cell_type": "markdown",
      "source": [
        "#Problem 2 : Demonstrate the importance of different regularization techniques to train an Autoencoder. (pytorch/keras/tensorflow)\n",
        "\n",
        "Observation to be demonstrated\n",
        "1. Use suitable data and auto-encoder architecture to demonstrate the same. (MNIST\n",
        "fashion/digit data can be used)\n",
        "1. Implement weight decaying, sparse and contractive regularization functions and train the autoencoder using the same and show the significance of using\n",
        "them in autoencoder training"
      ],
      "metadata": {
        "id": "tC2NkHp66xy3"
      }
    },
    {
      "cell_type": "markdown",
      "source": [
        "##Write down the Objectives, Hypothesis and Experimental description for the above problem\n"
      ],
      "metadata": {
        "id": "bg0oF8s27KnQ"
      }
    },
    {
      "cell_type": "markdown",
      "source": [
        ""
      ],
      "metadata": {
        "id": "2Hugm18X7LU0"
      }
    },
    {
      "cell_type": "markdown",
      "source": [
        "## Programming : \n",
        "  Please write a program to demonstrate the same"
      ],
      "metadata": {
        "id": "xKls_nxe7LrG"
      }
    },
    {
      "cell_type": "code",
      "source": [
        "## Write your code here"
      ],
      "metadata": {
        "id": "7Ijd-MuC7Nym"
      },
      "execution_count": null,
      "outputs": []
    },
    {
      "cell_type": "markdown",
      "source": [
        ""
      ],
      "metadata": {
        "id": "yLBSwEA87QBm"
      }
    },
    {
      "cell_type": "markdown",
      "source": [
        "## Inferences and Conclusion : State all the key observations and conclusion"
      ],
      "metadata": {
        "id": "RYJkX7NJ7RdO"
      }
    },
    {
      "cell_type": "markdown",
      "source": [
        ""
      ],
      "metadata": {
        "id": "I_7OcLlf7SIP"
      }
    }
  ]
}