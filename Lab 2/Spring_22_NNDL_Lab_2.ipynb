{
  "nbformat": 4,
  "nbformat_minor": 0,
  "metadata": {
    "colab": {
      "name": "Spring_22_NNDL_Lab_2.ipynb",
      "provenance": [],
      "collapsed_sections": []
    },
    "kernelspec": {
      "name": "python3",
      "display_name": "Python 3"
    },
    "language_info": {
      "name": "python"
    }
  },
  "cells": [
    {
      "cell_type": "markdown",
      "source": [
        "# LAB 2 : Multi Class Classification Using Perceptron \n",
        "\n",
        "Name : \n",
        "\n",
        "Roll Number : \n",
        "\n"
      ],
      "metadata": {
        "id": "WmH9b_FkVDQd"
      }
    },
    {
      "cell_type": "markdown",
      "source": [
        "# **Problem 1** : Demonstrate the 2-input, 2-output neural network, to perform 4 class, classification task.\n",
        "\n",
        "  1. Generate appropriate data synthetically (Ex: Multivariate Gaussian data with dif\u0002ferent mean vectors and Identity covariance matrix can be used )\n",
        "  2. Have to convert the class labels (0, 1, 2, 3) to its corresponding binary value.\n",
        "  3. Use appropriate activation function and learning rule .\n",
        "  4. Draw the learned separating hyper planes in each iteration. (using the information\n",
        "  from the learned weights).\n",
        "  5. After the network is learned, a independent test set can be used to validate the per\u0002formance. (Performance can be shown through accuracy/error percentage, justify\n",
        "  the error by drawing the separating hyper-plane over the test set data (use different\n",
        "  color code for different class label) )"
      ],
      "metadata": {
        "id": "CCqAnBNyWmyg"
      }
    },
    {
      "cell_type": "markdown",
      "source": [
        "##Write down the Objectives, Hypothesis and Experimental description for the above problem\n",
        "\n"
      ],
      "metadata": {
        "id": "BOJ9-bLiW20X"
      }
    },
    {
      "cell_type": "markdown",
      "source": [
        "=== Write your answer here ==="
      ],
      "metadata": {
        "id": "oN1gqe4AW6TO"
      }
    },
    {
      "cell_type": "markdown",
      "source": [
        "## Programming : \n",
        "  Please write a program to demonstrate the same"
      ],
      "metadata": {
        "id": "fyZRTAdnW7_v"
      }
    },
    {
      "cell_type": "code",
      "source": [
        "import numpy as np\n",
        "import matplotlib.pyplot as plt\n",
        "\n",
        "def GenerateData(No_training,mean,variance):\n",
        "\n",
        "  data = []\n",
        "  ## Write your code here\n",
        "\n",
        "  return data"
      ],
      "metadata": {
        "id": "WHxTqibuW9QR"
      },
      "execution_count": null,
      "outputs": []
    },
    {
      "cell_type": "code",
      "source": [
        "## Define Mean and Variance for all the data points\n",
        "\n"
      ],
      "metadata": {
        "id": "apEx3WzZ4UIy"
      },
      "execution_count": null,
      "outputs": []
    },
    {
      "cell_type": "code",
      "source": [
        "## Augment the Data \n",
        "\n"
      ],
      "metadata": {
        "id": "ZzkIW6Ec4d37"
      },
      "execution_count": null,
      "outputs": []
    },
    {
      "cell_type": "code",
      "source": [
        "## Define Target Labels\n",
        "\n"
      ],
      "metadata": {
        "id": "wt_DoSnQ4rwV"
      },
      "execution_count": null,
      "outputs": []
    },
    {
      "cell_type": "code",
      "source": [
        "def perceptron_learning_loop():\n",
        "\n",
        "  ## Write your code here"
      ],
      "metadata": {
        "id": "Ux0W_B2T4xd2"
      },
      "execution_count": null,
      "outputs": []
    },
    {
      "cell_type": "code",
      "source": [
        "## Testing\n",
        "\n"
      ],
      "metadata": {
        "id": "DG4uoWKY48A4"
      },
      "execution_count": null,
      "outputs": []
    },
    {
      "cell_type": "markdown",
      "source": [
        "## Inferences and Conclusion : State all the key observations and conclusion"
      ],
      "metadata": {
        "id": "8EmTAvDTW-uV"
      }
    },
    {
      "cell_type": "markdown",
      "source": [
        "=== Write your answer here ==="
      ],
      "metadata": {
        "id": "lptLPyN3W_j2"
      }
    }
  ]
}